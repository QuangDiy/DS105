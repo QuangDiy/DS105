{
 "cells": [
  {
   "cell_type": "code",
   "execution_count": 35,
   "id": "initial_id",
   "metadata": {
    "collapsed": true,
    "ExecuteTime": {
     "end_time": "2023-11-03T19:08:28.965996100Z",
     "start_time": "2023-11-03T19:08:28.947521200Z"
    }
   },
   "outputs": [],
   "source": [
    "import pandas as pd\n",
    "df = pd.read_csv('test.csv')"
   ]
  },
  {
   "cell_type": "code",
   "execution_count": 43,
   "outputs": [
    {
     "data": {
      "text/plain": "                                                   name   price_old  \\\n0     Laptop Acer Swift 5 SF514 53T 51EX i5 8265U/8G...   8130000.0   \n1     Laptop Acer Swift 5 SF514 53T 720R i7 8565U/8G...   9480000.0   \n2     Laptop Acer Swift 3 SF314 54 51QL i5 8250U/4GB...   5520000.0   \n3     Laptop CHUWI CoreBook X i5 8259U/16GB/512GB/Win10   5580000.0   \n4     Laptop Acer Switch 5 SW512 52P 34RS i3 7130U/4...   7620000.0   \n...                                                 ...         ...   \n1076  Laptop MSI Gaming Cyborg 15 A12VE i7 12650H/8G...  24370000.0   \n1077  Laptop Apple MacBook Pro 13 inch M2 2022 8-cor...  28640000.0   \n1078  Laptop MSI Modern 15 B12MO i5 1235U/16GB/512GB...  12980000.0   \n1079  Laptop HP Elitebook 630 G10 i7 1355U/16GB/512G...  24640000.0   \n1080  Laptop Apple MacBook Pro 13 inch M2 2022 8-cor...  28780000.0   \n\n       price_new               warranty  \\\n0     23990000.0       1 tháng tại TGDĐ   \n1     27990000.0       1 tháng tại TGDĐ   \n2     16290000.0       1 tháng tại TGDĐ   \n3     15490000.0       1 tháng tại TGDĐ   \n4     22490000.0       1 tháng tại TGDĐ   \n...          ...                    ...   \n1076  27490000.0  22.5 tháng chính hãng   \n1077  35390000.0   9.5 tháng chính hãng   \n1078  14490000.0  23.5 tháng chính hãng   \n1079  27790000.0  10.5 tháng chính hãng   \n1080  35390000.0    10 tháng chính hãng   \n\n                                         CPU Ram_size Ram_type  \\\n0          Intel Core i5 Coffee Lake - 8265U        8     DDR4   \n1          Intel Core i7 Coffee Lake - 8565U        8     DDR4   \n2     Intel Core i5 Kabylake Refresh - 8250U        4     DDR4   \n3          Intel Core i5 Coffee Lake - 8259U       16     DDR4   \n4             Intel Core i3 Kabylake - 7130U        4    DDR3L   \n...                                      ...      ...      ...   \n1076       Intel Core i7 Alder Lake - 12650H        8     DDR5   \n1077                                Apple M2        8     Hãng   \n1078        Intel Core i5 Alder Lake - 1235U       16     DDR4   \n1079       Intel Core i7 Raptor Lake - 1355U       16     DDR4   \n1080                                Apple M2        8     Hãng   \n\n                                             Hard_Drive screen resolution  \\\n0                                  256 GB SSD NVMe PCIe     14    Full HD   \n1                                  256 GB SSD NVMe PCIe     14    Full HD   \n2     HDD 1 TB\\nHỗ trợ thêm 1 khe cắm SSD M.2 PCIe m...     14    Full HD   \n3     512 GB SSD\\nHỗ trợ khe cắm SSD M.2 SATA3 (nâng...     14       2.2K   \n4                                    128 GB SSD M2 PCIe     12         2K   \n...                                                 ...    ...        ...   \n1076                       512 GB SSD NVMe PCIe Gen 4.0   15.6    Full HD   \n1077                                         512 GB SSD   13.3     Retina   \n1078                               512 GB SSD NVMe PCIe   15.6    Full HD   \n1079                               512 GB SSD NVMe PCIe   13.3    Full HD   \n1080                                         512 GB SSD   13.3     Retina   \n\n      ...                                        size_weight      material  \\\n0     ...  Dài 329 mm - Rộng 228 mm - Dày 14.9 mm - Nặng ...  Nhôm - Magie   \n1     ...  Dài 329 mm - Rộng 228 mm - Dày 14.9 mm - Nặng ...  Nhôm - Magie   \n2     ...     Dài - - Rộng - - Dày Dày 18.7 mm - Nặng 1.5 Kg   Vỏ kim loại   \n3     ...  Dài 310 mm - Rộng 229.5 mm - Dày 20.6 mm - Nặn...   Vỏ kim loại   \n4     ...  Dài Dài 292.9 mm - Rộng Rộng 201.8 mm - Dày Dà...   Vỏ kim loại   \n...   ...                                                ...           ...   \n1076  ...  Dài 359.36 mm - Rộng 250.34 mm - Dày 21.95 ~ 2...       Vỏ nhựa   \n1077  ...  Dài 304.1 mm - Rộng 212.4 mm - Dày 15.6 mm - N...   Vỏ kim loại   \n1078  ...  Dài 359 mm - Rộng 241 mm - Dày 19.9 mm - Nặng ...       Vỏ nhựa   \n1079  ...  Dài 306.9 mm - Rộng 208.4 mm - Dày 15.9 mm - N...   Vỏ kim loại   \n1080  ...  Dài 304.1 mm - Rộng 212.4 mm - Dày 15.6 mm - N...   Vỏ kim loại   \n\n                      os    year                        battery  \\\n0     Windows 10 Home SL    2018              2-cell Li-Polymer   \n1     Windows 10 Home SL    2018              2-cell Li-Polymer   \n2     Windows 10 Home SL    2018                  4-cell Li-ion   \n3     Windows 10 Home SL    2021                        46.2 Wh   \n4     Windows 10 Home SL    2019                  2-cell Li-ion   \n...                  ...     ...                            ...   \n1076  Windows 11 Home SL    2022                3 cell, 53.5 Wh   \n1077               macOS  6/2022  Lên đến 20 giờ (Hãng công bố)   \n1078  Windows 11 Home SL    2023                3-Cell, 39.3 Wh   \n1079  Windows 11 Home SL    2023           3-cell Li-ion, 42 Wh   \n1080               macOS  6/2022  Lên đến 20 giờ (Hãng công bố)   \n\n            graphic                                       graphic_name weight  \\\n0     Card tích hợp                             Intel UHD Graphics 620   0.97   \n1     Card tích hợp                             Intel UHD Graphics 620   0.94   \n2     Card tích hợp                              Intel HD Graphics 620    NaN   \n3     Card tích hợp                       Intel Iris Plus Graphics 655   1.50   \n4     Card tích hợp                             Intel UHD Graphics 620   0.92   \n...             ...                                                ...    ...   \n1076       Card rời                      NVIDIA GeForce RTX 4050, 6 GB   1.98   \n1077  Card tích hợp                                        10 nhân GPU   1.40   \n1078  Card tích hợp                             Intel Iris Xe Graphics   1.70   \n1079  Card tích hợp  Intel UHD Graphics (Iris Xe Graphics chỉ hoạt ...   1.22   \n1080  Card tích hợp                                        10 nhân GPU   1.40   \n\n      warranty_time  warranty_location  \n0               1.0           Cửa Hàng  \n1               1.0           Cửa Hàng  \n2               1.0           Cửa Hàng  \n3               1.0           Cửa Hàng  \n4               1.0           Cửa Hàng  \n...             ...                ...  \n1076           22.5         Chính Hãng  \n1077            9.5         Chính Hãng  \n1078           23.5         Chính Hãng  \n1079           10.5         Chính Hãng  \n1080           10.0         Chính Hãng  \n\n[1081 rows x 21 columns]",
      "text/html": "<div>\n<style scoped>\n    .dataframe tbody tr th:only-of-type {\n        vertical-align: middle;\n    }\n\n    .dataframe tbody tr th {\n        vertical-align: top;\n    }\n\n    .dataframe thead th {\n        text-align: right;\n    }\n</style>\n<table border=\"1\" class=\"dataframe\">\n  <thead>\n    <tr style=\"text-align: right;\">\n      <th></th>\n      <th>name</th>\n      <th>price_old</th>\n      <th>price_new</th>\n      <th>warranty</th>\n      <th>CPU</th>\n      <th>Ram_size</th>\n      <th>Ram_type</th>\n      <th>Hard_Drive</th>\n      <th>screen</th>\n      <th>resolution</th>\n      <th>...</th>\n      <th>size_weight</th>\n      <th>material</th>\n      <th>os</th>\n      <th>year</th>\n      <th>battery</th>\n      <th>graphic</th>\n      <th>graphic_name</th>\n      <th>weight</th>\n      <th>warranty_time</th>\n      <th>warranty_location</th>\n    </tr>\n  </thead>\n  <tbody>\n    <tr>\n      <th>0</th>\n      <td>Laptop Acer Swift 5 SF514 53T 51EX i5 8265U/8G...</td>\n      <td>8130000.0</td>\n      <td>23990000.0</td>\n      <td>1 tháng tại TGDĐ</td>\n      <td>Intel Core i5 Coffee Lake - 8265U</td>\n      <td>8</td>\n      <td>DDR4</td>\n      <td>256 GB SSD NVMe PCIe</td>\n      <td>14</td>\n      <td>Full HD</td>\n      <td>...</td>\n      <td>Dài 329 mm - Rộng 228 mm - Dày 14.9 mm - Nặng ...</td>\n      <td>Nhôm - Magie</td>\n      <td>Windows 10 Home SL</td>\n      <td>2018</td>\n      <td>2-cell Li-Polymer</td>\n      <td>Card tích hợp</td>\n      <td>Intel UHD Graphics 620</td>\n      <td>0.97</td>\n      <td>1.0</td>\n      <td>Cửa Hàng</td>\n    </tr>\n    <tr>\n      <th>1</th>\n      <td>Laptop Acer Swift 5 SF514 53T 720R i7 8565U/8G...</td>\n      <td>9480000.0</td>\n      <td>27990000.0</td>\n      <td>1 tháng tại TGDĐ</td>\n      <td>Intel Core i7 Coffee Lake - 8565U</td>\n      <td>8</td>\n      <td>DDR4</td>\n      <td>256 GB SSD NVMe PCIe</td>\n      <td>14</td>\n      <td>Full HD</td>\n      <td>...</td>\n      <td>Dài 329 mm - Rộng 228 mm - Dày 14.9 mm - Nặng ...</td>\n      <td>Nhôm - Magie</td>\n      <td>Windows 10 Home SL</td>\n      <td>2018</td>\n      <td>2-cell Li-Polymer</td>\n      <td>Card tích hợp</td>\n      <td>Intel UHD Graphics 620</td>\n      <td>0.94</td>\n      <td>1.0</td>\n      <td>Cửa Hàng</td>\n    </tr>\n    <tr>\n      <th>2</th>\n      <td>Laptop Acer Swift 3 SF314 54 51QL i5 8250U/4GB...</td>\n      <td>5520000.0</td>\n      <td>16290000.0</td>\n      <td>1 tháng tại TGDĐ</td>\n      <td>Intel Core i5 Kabylake Refresh - 8250U</td>\n      <td>4</td>\n      <td>DDR4</td>\n      <td>HDD 1 TB\\nHỗ trợ thêm 1 khe cắm SSD M.2 PCIe m...</td>\n      <td>14</td>\n      <td>Full HD</td>\n      <td>...</td>\n      <td>Dài - - Rộng - - Dày Dày 18.7 mm - Nặng 1.5 Kg</td>\n      <td>Vỏ kim loại</td>\n      <td>Windows 10 Home SL</td>\n      <td>2018</td>\n      <td>4-cell Li-ion</td>\n      <td>Card tích hợp</td>\n      <td>Intel HD Graphics 620</td>\n      <td>NaN</td>\n      <td>1.0</td>\n      <td>Cửa Hàng</td>\n    </tr>\n    <tr>\n      <th>3</th>\n      <td>Laptop CHUWI CoreBook X i5 8259U/16GB/512GB/Win10</td>\n      <td>5580000.0</td>\n      <td>15490000.0</td>\n      <td>1 tháng tại TGDĐ</td>\n      <td>Intel Core i5 Coffee Lake - 8259U</td>\n      <td>16</td>\n      <td>DDR4</td>\n      <td>512 GB SSD\\nHỗ trợ khe cắm SSD M.2 SATA3 (nâng...</td>\n      <td>14</td>\n      <td>2.2K</td>\n      <td>...</td>\n      <td>Dài 310 mm - Rộng 229.5 mm - Dày 20.6 mm - Nặn...</td>\n      <td>Vỏ kim loại</td>\n      <td>Windows 10 Home SL</td>\n      <td>2021</td>\n      <td>46.2 Wh</td>\n      <td>Card tích hợp</td>\n      <td>Intel Iris Plus Graphics 655</td>\n      <td>1.50</td>\n      <td>1.0</td>\n      <td>Cửa Hàng</td>\n    </tr>\n    <tr>\n      <th>4</th>\n      <td>Laptop Acer Switch 5 SW512 52P 34RS i3 7130U/4...</td>\n      <td>7620000.0</td>\n      <td>22490000.0</td>\n      <td>1 tháng tại TGDĐ</td>\n      <td>Intel Core i3 Kabylake - 7130U</td>\n      <td>4</td>\n      <td>DDR3L</td>\n      <td>128 GB SSD M2 PCIe</td>\n      <td>12</td>\n      <td>2K</td>\n      <td>...</td>\n      <td>Dài Dài 292.9 mm - Rộng Rộng 201.8 mm - Dày Dà...</td>\n      <td>Vỏ kim loại</td>\n      <td>Windows 10 Home SL</td>\n      <td>2019</td>\n      <td>2-cell Li-ion</td>\n      <td>Card tích hợp</td>\n      <td>Intel UHD Graphics 620</td>\n      <td>0.92</td>\n      <td>1.0</td>\n      <td>Cửa Hàng</td>\n    </tr>\n    <tr>\n      <th>...</th>\n      <td>...</td>\n      <td>...</td>\n      <td>...</td>\n      <td>...</td>\n      <td>...</td>\n      <td>...</td>\n      <td>...</td>\n      <td>...</td>\n      <td>...</td>\n      <td>...</td>\n      <td>...</td>\n      <td>...</td>\n      <td>...</td>\n      <td>...</td>\n      <td>...</td>\n      <td>...</td>\n      <td>...</td>\n      <td>...</td>\n      <td>...</td>\n      <td>...</td>\n      <td>...</td>\n    </tr>\n    <tr>\n      <th>1076</th>\n      <td>Laptop MSI Gaming Cyborg 15 A12VE i7 12650H/8G...</td>\n      <td>24370000.0</td>\n      <td>27490000.0</td>\n      <td>22.5 tháng chính hãng</td>\n      <td>Intel Core i7 Alder Lake - 12650H</td>\n      <td>8</td>\n      <td>DDR5</td>\n      <td>512 GB SSD NVMe PCIe Gen 4.0</td>\n      <td>15.6</td>\n      <td>Full HD</td>\n      <td>...</td>\n      <td>Dài 359.36 mm - Rộng 250.34 mm - Dày 21.95 ~ 2...</td>\n      <td>Vỏ nhựa</td>\n      <td>Windows 11 Home SL</td>\n      <td>2022</td>\n      <td>3 cell, 53.5 Wh</td>\n      <td>Card rời</td>\n      <td>NVIDIA GeForce RTX 4050, 6 GB</td>\n      <td>1.98</td>\n      <td>22.5</td>\n      <td>Chính Hãng</td>\n    </tr>\n    <tr>\n      <th>1077</th>\n      <td>Laptop Apple MacBook Pro 13 inch M2 2022 8-cor...</td>\n      <td>28640000.0</td>\n      <td>35390000.0</td>\n      <td>9.5 tháng chính hãng</td>\n      <td>Apple M2</td>\n      <td>8</td>\n      <td>Hãng</td>\n      <td>512 GB SSD</td>\n      <td>13.3</td>\n      <td>Retina</td>\n      <td>...</td>\n      <td>Dài 304.1 mm - Rộng 212.4 mm - Dày 15.6 mm - N...</td>\n      <td>Vỏ kim loại</td>\n      <td>macOS</td>\n      <td>6/2022</td>\n      <td>Lên đến 20 giờ (Hãng công bố)</td>\n      <td>Card tích hợp</td>\n      <td>10 nhân GPU</td>\n      <td>1.40</td>\n      <td>9.5</td>\n      <td>Chính Hãng</td>\n    </tr>\n    <tr>\n      <th>1078</th>\n      <td>Laptop MSI Modern 15 B12MO i5 1235U/16GB/512GB...</td>\n      <td>12980000.0</td>\n      <td>14490000.0</td>\n      <td>23.5 tháng chính hãng</td>\n      <td>Intel Core i5 Alder Lake - 1235U</td>\n      <td>16</td>\n      <td>DDR4</td>\n      <td>512 GB SSD NVMe PCIe</td>\n      <td>15.6</td>\n      <td>Full HD</td>\n      <td>...</td>\n      <td>Dài 359 mm - Rộng 241 mm - Dày 19.9 mm - Nặng ...</td>\n      <td>Vỏ nhựa</td>\n      <td>Windows 11 Home SL</td>\n      <td>2023</td>\n      <td>3-Cell, 39.3 Wh</td>\n      <td>Card tích hợp</td>\n      <td>Intel Iris Xe Graphics</td>\n      <td>1.70</td>\n      <td>23.5</td>\n      <td>Chính Hãng</td>\n    </tr>\n    <tr>\n      <th>1079</th>\n      <td>Laptop HP Elitebook 630 G10 i7 1355U/16GB/512G...</td>\n      <td>24640000.0</td>\n      <td>27790000.0</td>\n      <td>10.5 tháng chính hãng</td>\n      <td>Intel Core i7 Raptor Lake - 1355U</td>\n      <td>16</td>\n      <td>DDR4</td>\n      <td>512 GB SSD NVMe PCIe</td>\n      <td>13.3</td>\n      <td>Full HD</td>\n      <td>...</td>\n      <td>Dài 306.9 mm - Rộng 208.4 mm - Dày 15.9 mm - N...</td>\n      <td>Vỏ kim loại</td>\n      <td>Windows 11 Home SL</td>\n      <td>2023</td>\n      <td>3-cell Li-ion, 42 Wh</td>\n      <td>Card tích hợp</td>\n      <td>Intel UHD Graphics (Iris Xe Graphics chỉ hoạt ...</td>\n      <td>1.22</td>\n      <td>10.5</td>\n      <td>Chính Hãng</td>\n    </tr>\n    <tr>\n      <th>1080</th>\n      <td>Laptop Apple MacBook Pro 13 inch M2 2022 8-cor...</td>\n      <td>28780000.0</td>\n      <td>35390000.0</td>\n      <td>10 tháng chính hãng</td>\n      <td>Apple M2</td>\n      <td>8</td>\n      <td>Hãng</td>\n      <td>512 GB SSD</td>\n      <td>13.3</td>\n      <td>Retina</td>\n      <td>...</td>\n      <td>Dài 304.1 mm - Rộng 212.4 mm - Dày 15.6 mm - N...</td>\n      <td>Vỏ kim loại</td>\n      <td>macOS</td>\n      <td>6/2022</td>\n      <td>Lên đến 20 giờ (Hãng công bố)</td>\n      <td>Card tích hợp</td>\n      <td>10 nhân GPU</td>\n      <td>1.40</td>\n      <td>10.0</td>\n      <td>Chính Hãng</td>\n    </tr>\n  </tbody>\n</table>\n<p>1081 rows × 21 columns</p>\n</div>"
     },
     "execution_count": 43,
     "metadata": {},
     "output_type": "execute_result"
    }
   ],
   "source": [
    "df"
   ],
   "metadata": {
    "collapsed": false,
    "ExecuteTime": {
     "end_time": "2023-11-03T19:09:07.644506100Z",
     "start_time": "2023-11-03T19:09:07.617201200Z"
    }
   },
   "id": "21d1eb39bb934478"
  },
  {
   "cell_type": "code",
   "execution_count": 36,
   "outputs": [],
   "source": [
    "df[['graphic', 'graphic_name']] = df['graphics'].str.split(\" - \", expand=True)"
   ],
   "metadata": {
    "collapsed": false,
    "ExecuteTime": {
     "end_time": "2023-11-03T19:08:31.468600900Z",
     "start_time": "2023-11-03T19:08:31.437130700Z"
    }
   },
   "id": "5ed42970ff2ef605"
  },
  {
   "cell_type": "code",
   "execution_count": 37,
   "outputs": [],
   "source": [
    "def chuyen_gia_tri_so(chuoi):\n",
    "    chuoi = chuoi.replace('.', '').replace('₫', '').strip()\n",
    "\n",
    "    gia_tri_so = float(chuoi)\n",
    "\n",
    "    return gia_tri_so\n",
    "\n",
    "df['price_old'] = df['price_old'].apply(chuyen_gia_tri_so)\n",
    "df['price_new'] = df['price_new'].apply(chuyen_gia_tri_so)"
   ],
   "metadata": {
    "collapsed": false,
    "ExecuteTime": {
     "end_time": "2023-11-03T19:08:32.877232900Z",
     "start_time": "2023-11-03T19:08:32.869760800Z"
    }
   },
   "id": "18902eb90c687bc9"
  },
  {
   "cell_type": "code",
   "execution_count": 38,
   "outputs": [],
   "source": [
    "df['resolution'] = df['resolution'].apply(lambda x: x.split(' (')[0])"
   ],
   "metadata": {
    "collapsed": false,
    "ExecuteTime": {
     "end_time": "2023-11-03T19:08:34.712312100Z",
     "start_time": "2023-11-03T19:08:34.702925200Z"
    }
   },
   "id": "6b7a81ade08db077"
  },
  {
   "cell_type": "code",
   "execution_count": 39,
   "outputs": [],
   "source": [
    "df['weight'] = df['size_weight'].str.extract(r\"Nặng (\\d+(\\.\\d+)?) kg\")[0].astype(float)"
   ],
   "metadata": {
    "collapsed": false,
    "ExecuteTime": {
     "end_time": "2023-11-03T19:08:35.208819500Z",
     "start_time": "2023-11-03T19:08:35.201252600Z"
    }
   },
   "id": "34e420ab18f99dde"
  },
  {
   "cell_type": "code",
   "execution_count": 40,
   "outputs": [],
   "source": [
    "# Ram_type, Ram_size, screen, resolution, \n",
    "def xoa_sau_khoang_trang_dau_tien(chuoi):\n",
    "    try:\n",
    "        index = chuoi.find(' ')\n",
    "        if index != -1:\n",
    "            return chuoi[:index]\n",
    "        else:\n",
    "            return chuoi\n",
    "    except:\n",
    "        return chuoi\n",
    "\n",
    "df['Ram_type'] = df['Ram_type'].apply(xoa_sau_khoang_trang_dau_tien)\n",
    "df['Ram_size'] = df['Ram_size'].apply(xoa_sau_khoang_trang_dau_tien)\n",
    "df['screen'] = df['screen'].apply(xoa_sau_khoang_trang_dau_tien)"
   ],
   "metadata": {
    "collapsed": false,
    "ExecuteTime": {
     "end_time": "2023-11-03T19:08:35.814518800Z",
     "start_time": "2023-11-03T19:08:35.804712500Z"
    }
   },
   "id": "b78b0bcf195c3a69"
  },
  {
   "cell_type": "code",
   "execution_count": 41,
   "outputs": [],
   "source": [
    "import re\n",
    "\n",
    "def extract_warranty(item):\n",
    "    time_pattern = r\"(\\d+(\\.\\d+)?)\\s+tháng\"\n",
    "    time_match = re.search(time_pattern, item)\n",
    "    if time_match:\n",
    "        warranty_time = float(time_match.group(1))\n",
    "    else:\n",
    "        time_pattern = r\"(\\d+(\\.\\d+)?)\\s+năm\"\n",
    "        time_match = re.search(time_pattern, item)\n",
    "        warranty_time = float(time_match.group(1))*12\n",
    "        \n",
    "    place_pattern = r\"chính\\s+(.+)$\"\n",
    "    place_match = re.search(place_pattern, item)\n",
    "    if place_match:\n",
    "        warranty_location = \"Chính Hãng\"\n",
    "    else:\n",
    "        warranty_location = \"Cửa Hàng\"\n",
    "        \n",
    "    return warranty_time, warranty_location\n",
    "df[['warranty_time', 'warranty_location']] = df['warranty'].apply(extract_warranty).apply(pd.Series)\n",
    "# extract_warranty('3.5 tháng chính hãng')"
   ],
   "metadata": {
    "collapsed": false,
    "ExecuteTime": {
     "end_time": "2023-11-03T19:08:36.622452300Z",
     "start_time": "2023-11-03T19:08:36.528225300Z"
    }
   },
   "id": "32c1f861ee27f146"
  },
  {
   "cell_type": "code",
   "execution_count": 44,
   "outputs": [],
   "source": [
    "df.to_csv('data_final.csv', index=False)"
   ],
   "metadata": {
    "collapsed": false,
    "ExecuteTime": {
     "end_time": "2023-11-03T19:09:35.354977200Z",
     "start_time": "2023-11-03T19:09:35.323579500Z"
    }
   },
   "id": "dcaa6c9f864e2420"
  },
  {
   "cell_type": "code",
   "execution_count": 45,
   "outputs": [
    {
     "name": "stdout",
     "output_type": "stream",
     "text": [
      "<class 'pandas.core.frame.DataFrame'>\n",
      "RangeIndex: 1081 entries, 0 to 1080\n",
      "Data columns (total 21 columns):\n",
      " #   Column             Non-Null Count  Dtype  \n",
      "---  ------             --------------  -----  \n",
      " 0   name               1081 non-null   object \n",
      " 1   price_old          1081 non-null   float64\n",
      " 2   price_new          1081 non-null   float64\n",
      " 3   warranty           1081 non-null   object \n",
      " 4   CPU                1081 non-null   object \n",
      " 5   Ram_size           1081 non-null   object \n",
      " 6   Ram_type           1080 non-null   object \n",
      " 7   Hard_Drive         1081 non-null   object \n",
      " 8   screen             1081 non-null   object \n",
      " 9   resolution         1081 non-null   object \n",
      " 10  graphics           1081 non-null   object \n",
      " 11  size_weight        1081 non-null   object \n",
      " 12  material           1081 non-null   object \n",
      " 13  os                 1081 non-null   object \n",
      " 14  year               1081 non-null   object \n",
      " 15  battery            1081 non-null   object \n",
      " 16  graphic            1081 non-null   object \n",
      " 17  graphic_name       1081 non-null   object \n",
      " 18  weight             1074 non-null   float64\n",
      " 19  warranty_time      1081 non-null   float64\n",
      " 20  warranty_location  1081 non-null   object \n",
      "dtypes: float64(4), object(17)\n",
      "memory usage: 177.5+ KB\n"
     ]
    }
   ],
   "source": [
    "df.info()"
   ],
   "metadata": {
    "collapsed": false,
    "ExecuteTime": {
     "end_time": "2023-11-03T19:09:58.189958300Z",
     "start_time": "2023-11-03T19:09:58.172889200Z"
    }
   },
   "id": "90467c82ad4fc073"
  }
 ],
 "metadata": {
  "kernelspec": {
   "display_name": "Python 3",
   "language": "python",
   "name": "python3"
  },
  "language_info": {
   "codemirror_mode": {
    "name": "ipython",
    "version": 2
   },
   "file_extension": ".py",
   "mimetype": "text/x-python",
   "name": "python",
   "nbconvert_exporter": "python",
   "pygments_lexer": "ipython2",
   "version": "2.7.6"
  }
 },
 "nbformat": 4,
 "nbformat_minor": 5
}
